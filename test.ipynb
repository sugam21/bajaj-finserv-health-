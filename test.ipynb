{
 "cells": [
  {
   "cell_type": "code",
   "execution_count": 64,
   "metadata": {},
   "outputs": [],
   "source": [
    "import pandas as pd\n",
    "import json"
   ]
  },
  {
   "cell_type": "code",
   "execution_count": 65,
   "metadata": {},
   "outputs": [
    {
     "name": "stderr",
     "output_type": "stream",
     "text": [
      "<>:1: SyntaxWarning: invalid escape sequence '\\E'\n",
      "<>:1: SyntaxWarning: invalid escape sequence '\\E'\n",
      "C:\\Users\\sugam\\AppData\\Local\\Temp\\ipykernel_23704\\1212815109.py:1: SyntaxWarning: invalid escape sequence '\\E'\n",
      "  json_file = pd.read_json(\"D:\\Extras\\DataEngineeringQ2.json\")\n"
     ]
    }
   ],
   "source": [
    "json_file = pd.read_json(\"D:\\Extras\\DataEngineeringQ2.json\")"
   ]
  },
  {
   "cell_type": "markdown",
   "metadata": {},
   "source": [
    "Share percentage of missing values, for the columns firstName, lastName and DOB from patientDetails. "
   ]
  },
  {
   "cell_type": "code",
   "execution_count": 66,
   "metadata": {},
   "outputs": [
    {
     "data": {
      "text/html": [
       "<div>\n",
       "<style scoped>\n",
       "    .dataframe tbody tr th:only-of-type {\n",
       "        vertical-align: middle;\n",
       "    }\n",
       "\n",
       "    .dataframe tbody tr th {\n",
       "        vertical-align: top;\n",
       "    }\n",
       "\n",
       "    .dataframe thead th {\n",
       "        text-align: right;\n",
       "    }\n",
       "</style>\n",
       "<table border=\"1\" class=\"dataframe\">\n",
       "  <thead>\n",
       "    <tr style=\"text-align: right;\">\n",
       "      <th></th>\n",
       "      <th>_id</th>\n",
       "      <th>appointmentId</th>\n",
       "      <th>patientDetails</th>\n",
       "      <th>phoneNumber</th>\n",
       "      <th>consultationData</th>\n",
       "    </tr>\n",
       "  </thead>\n",
       "  <tbody>\n",
       "    <tr>\n",
       "      <th>0</th>\n",
       "      <td>T6hf3rb5</td>\n",
       "      <td>40d2-9c9f</td>\n",
       "      <td>{'_id': 'T6hb630b3', 'firstName': 'Css', 'last...</td>\n",
       "      <td>96686896670</td>\n",
       "      <td>{'adviceTemplates': [], 'advices': [], 'attach...</td>\n",
       "    </tr>\n",
       "    <tr>\n",
       "      <th>1</th>\n",
       "      <td>T65g3rb5</td>\n",
       "      <td>40dbtc9f</td>\n",
       "      <td>{'_id': 'T6h33b300', 'firstName': 'Lokesh', 'l...</td>\n",
       "      <td>9496368916</td>\n",
       "      <td>{'adviceTemplates': [], 'advices': [], 'attach...</td>\n",
       "    </tr>\n",
       "    <tr>\n",
       "      <th>2</th>\n",
       "      <td>T7g6Srb5</td>\n",
       "      <td>g3Wt5c9f</td>\n",
       "      <td>{'_id': 'TjhB4373', 'phrId': '63b5hvy614d5', '...</td>\n",
       "      <td>7787204833</td>\n",
       "      <td>{'adviceTemplates': [], 'advices': [], 'attach...</td>\n",
       "    </tr>\n",
       "    <tr>\n",
       "      <th>3</th>\n",
       "      <td>94bg8W8d</td>\n",
       "      <td>fb6-a535</td>\n",
       "      <td>{'_id': '6df4R5b', 'phrId': '644nig7y', 'first...</td>\n",
       "      <td>9376756879</td>\n",
       "      <td>{'adviceTemplates': [], 'advices': [], 'attach...</td>\n",
       "    </tr>\n",
       "    <tr>\n",
       "      <th>4</th>\n",
       "      <td>T6h8H56c</td>\n",
       "      <td>67h7KL9</td>\n",
       "      <td>{'_id': 'lK9hy06a', 'firstName': 'Raghu Viju',...</td>\n",
       "      <td>5267384241</td>\n",
       "      <td>{'adviceTemplates': [], 'advices': [], 'attach...</td>\n",
       "    </tr>\n",
       "  </tbody>\n",
       "</table>\n",
       "</div>"
      ],
      "text/plain": [
       "        _id appointmentId                                     patientDetails  \\\n",
       "0  T6hf3rb5     40d2-9c9f  {'_id': 'T6hb630b3', 'firstName': 'Css', 'last...   \n",
       "1  T65g3rb5      40dbtc9f  {'_id': 'T6h33b300', 'firstName': 'Lokesh', 'l...   \n",
       "2  T7g6Srb5      g3Wt5c9f  {'_id': 'TjhB4373', 'phrId': '63b5hvy614d5', '...   \n",
       "3  94bg8W8d      fb6-a535  {'_id': '6df4R5b', 'phrId': '644nig7y', 'first...   \n",
       "4  T6h8H56c       67h7KL9  {'_id': 'lK9hy06a', 'firstName': 'Raghu Viju',...   \n",
       "\n",
       "   phoneNumber                                   consultationData  \n",
       "0  96686896670  {'adviceTemplates': [], 'advices': [], 'attach...  \n",
       "1   9496368916  {'adviceTemplates': [], 'advices': [], 'attach...  \n",
       "2   7787204833  {'adviceTemplates': [], 'advices': [], 'attach...  \n",
       "3   9376756879  {'adviceTemplates': [], 'advices': [], 'attach...  \n",
       "4   5267384241  {'adviceTemplates': [], 'advices': [], 'attach...  "
      ]
     },
     "execution_count": 66,
     "metadata": {},
     "output_type": "execute_result"
    }
   ],
   "source": [
    "json_file.head()"
   ]
  },
  {
   "cell_type": "code",
   "execution_count": 67,
   "metadata": {},
   "outputs": [
    {
     "name": "stderr",
     "output_type": "stream",
     "text": [
      "<>:1: SyntaxWarning: invalid escape sequence '\\E'\n",
      "<>:1: SyntaxWarning: invalid escape sequence '\\E'\n",
      "C:\\Users\\sugam\\AppData\\Local\\Temp\\ipykernel_23704\\57785164.py:1: SyntaxWarning: invalid escape sequence '\\E'\n",
      "  with open(\"D:\\Extras\\DataEngineeringQ2.json\", 'r') as file:\n"
     ]
    }
   ],
   "source": [
    "with open(\"D:\\Extras\\DataEngineeringQ2.json\", \"r\") as file:\n",
    "    data = json.load(file)"
   ]
  },
  {
   "cell_type": "code",
   "execution_count": 68,
   "metadata": {},
   "outputs": [],
   "source": [
    "patient_details_list = []\n",
    "for record in data:\n",
    "    patient_detail = record.get(\"patientDetails\", {})\n",
    "    patient_details_list.append(patient_detail)"
   ]
  },
  {
   "cell_type": "code",
   "execution_count": 69,
   "metadata": {},
   "outputs": [
    {
     "data": {
      "text/html": [
       "<div>\n",
       "<style scoped>\n",
       "    .dataframe tbody tr th:only-of-type {\n",
       "        vertical-align: middle;\n",
       "    }\n",
       "\n",
       "    .dataframe tbody tr th {\n",
       "        vertical-align: top;\n",
       "    }\n",
       "\n",
       "    .dataframe thead th {\n",
       "        text-align: right;\n",
       "    }\n",
       "</style>\n",
       "<table border=\"1\" class=\"dataframe\">\n",
       "  <thead>\n",
       "    <tr style=\"text-align: right;\">\n",
       "      <th></th>\n",
       "      <th>_id</th>\n",
       "      <th>firstName</th>\n",
       "      <th>lastName</th>\n",
       "      <th>emailId</th>\n",
       "      <th>gender</th>\n",
       "      <th>alternateContact</th>\n",
       "      <th>birthDate</th>\n",
       "      <th>phrId</th>\n",
       "      <th>chat</th>\n",
       "      <th>customId</th>\n",
       "    </tr>\n",
       "  </thead>\n",
       "  <tbody>\n",
       "    <tr>\n",
       "      <th>0</th>\n",
       "      <td>T6hb630b3</td>\n",
       "      <td>Css</td>\n",
       "      <td></td>\n",
       "      <td></td>\n",
       "      <td></td>\n",
       "      <td></td>\n",
       "      <td>None</td>\n",
       "      <td>NaN</td>\n",
       "      <td>NaN</td>\n",
       "      <td>NaN</td>\n",
       "    </tr>\n",
       "    <tr>\n",
       "      <th>1</th>\n",
       "      <td>T6h33b300</td>\n",
       "      <td>Lokesh</td>\n",
       "      <td></td>\n",
       "      <td></td>\n",
       "      <td>M</td>\n",
       "      <td>NaN</td>\n",
       "      <td>1996-05-16T18:30:00.000Z</td>\n",
       "      <td>NaN</td>\n",
       "      <td>NaN</td>\n",
       "      <td>NaN</td>\n",
       "    </tr>\n",
       "    <tr>\n",
       "      <th>2</th>\n",
       "      <td>TjhB4373</td>\n",
       "      <td>Shila</td>\n",
       "      <td>Das</td>\n",
       "      <td></td>\n",
       "      <td>NaN</td>\n",
       "      <td>NaN</td>\n",
       "      <td>NaN</td>\n",
       "      <td>63b5hvy614d5</td>\n",
       "      <td>NaN</td>\n",
       "      <td>NaN</td>\n",
       "    </tr>\n",
       "    <tr>\n",
       "      <th>3</th>\n",
       "      <td>6df4R5b</td>\n",
       "      <td>Bhavika</td>\n",
       "      <td>Ben Panchal</td>\n",
       "      <td></td>\n",
       "      <td>F</td>\n",
       "      <td>NaN</td>\n",
       "      <td>1988-04-24T14:30:00.000Z</td>\n",
       "      <td>644nig7y</td>\n",
       "      <td>NaN</td>\n",
       "      <td>NaN</td>\n",
       "    </tr>\n",
       "    <tr>\n",
       "      <th>4</th>\n",
       "      <td>lK9hy06a</td>\n",
       "      <td>Raghu Viju</td>\n",
       "      <td></td>\n",
       "      <td></td>\n",
       "      <td>NaN</td>\n",
       "      <td></td>\n",
       "      <td>NaN</td>\n",
       "      <td>NaN</td>\n",
       "      <td>NaN</td>\n",
       "      <td>NaN</td>\n",
       "    </tr>\n",
       "  </tbody>\n",
       "</table>\n",
       "</div>"
      ],
      "text/plain": [
       "         _id   firstName     lastName emailId gender alternateContact  \\\n",
       "0  T6hb630b3         Css                                                \n",
       "1  T6h33b300      Lokesh                           M              NaN   \n",
       "2   TjhB4373       Shila          Das            NaN              NaN   \n",
       "3    6df4R5b     Bhavika  Ben Panchal              F              NaN   \n",
       "4   lK9hy06a  Raghu Viju                         NaN                    \n",
       "\n",
       "                  birthDate         phrId chat customId  \n",
       "0                      None           NaN  NaN      NaN  \n",
       "1  1996-05-16T18:30:00.000Z           NaN  NaN      NaN  \n",
       "2                       NaN  63b5hvy614d5  NaN      NaN  \n",
       "3  1988-04-24T14:30:00.000Z      644nig7y  NaN      NaN  \n",
       "4                       NaN           NaN  NaN      NaN  "
      ]
     },
     "execution_count": 69,
     "metadata": {},
     "output_type": "execute_result"
    }
   ],
   "source": [
    "# Convert to DataFrame\n",
    "df = pd.DataFrame(patient_details_list)\n",
    "df.head()"
   ]
  },
  {
   "cell_type": "code",
   "execution_count": 70,
   "metadata": {},
   "outputs": [
    {
     "data": {
      "text/plain": [
       "_id                  0\n",
       "firstName            0\n",
       "lastName             0\n",
       "emailId              1\n",
       "gender               9\n",
       "alternateContact    22\n",
       "birthDate           10\n",
       "phrId               23\n",
       "chat                15\n",
       "customId            15\n",
       "dtype: int64"
      ]
     },
     "execution_count": 70,
     "metadata": {},
     "output_type": "execute_result"
    }
   ],
   "source": [
    "df.isnull().sum(axis=0)"
   ]
  },
  {
   "cell_type": "code",
   "execution_count": 71,
   "metadata": {},
   "outputs": [],
   "source": [
    "is_null_gender = df[\"gender\"].isnull()\n",
    "most_gender = df[\"gender\"].mode()[0]"
   ]
  },
  {
   "cell_type": "code",
   "execution_count": 75,
   "metadata": {},
   "outputs": [],
   "source": [
    "df[\"gender\"] = df[\"gender\"].fillna(most_gender)"
   ]
  },
  {
   "cell_type": "code",
   "execution_count": 79,
   "metadata": {},
   "outputs": [],
   "source": [
    "is_space = df[\"gender\"] == \"\"\n",
    "df[\"gender\"][is_space] = \"M\""
   ]
  },
  {
   "cell_type": "code",
   "execution_count": 80,
   "metadata": {},
   "outputs": [
    {
     "data": {
      "text/plain": [
       "array(['M', 'F'], dtype=object)"
      ]
     },
     "execution_count": 80,
     "metadata": {},
     "output_type": "execute_result"
    }
   ],
   "source": [
    "df[\"gender\"].unique()"
   ]
  },
  {
   "cell_type": "code",
   "execution_count": 81,
   "metadata": {},
   "outputs": [
    {
     "data": {
      "text/plain": [
       "10"
      ]
     },
     "execution_count": 81,
     "metadata": {},
     "output_type": "execute_result"
    }
   ],
   "source": [
    "is_female = df[\"gender\"] == \"F\"\n",
    "sum(is_female)"
   ]
  },
  {
   "cell_type": "code",
   "execution_count": 82,
   "metadata": {},
   "outputs": [
    {
     "data": {
      "text/plain": [
       "31"
      ]
     },
     "execution_count": 82,
     "metadata": {},
     "output_type": "execute_result"
    }
   ],
   "source": [
    "len(df[\"gender\"])"
   ]
  },
  {
   "cell_type": "code",
   "execution_count": 84,
   "metadata": {},
   "outputs": [
    {
     "data": {
      "text/plain": [
       "32.26"
      ]
     },
     "execution_count": 84,
     "metadata": {},
     "output_type": "execute_result"
    }
   ],
   "source": [
    "round((10 / 31) * 100, 2)"
   ]
  },
  {
   "cell_type": "markdown",
   "metadata": {},
   "source": [
    "Adding age from birthday"
   ]
  },
  {
   "cell_type": "code",
   "execution_count": 85,
   "metadata": {},
   "outputs": [],
   "source": [
    "from datetime import datetime, date"
   ]
  },
  {
   "cell_type": "code",
   "execution_count": 86,
   "metadata": {},
   "outputs": [
    {
     "data": {
      "text/html": [
       "<div>\n",
       "<style scoped>\n",
       "    .dataframe tbody tr th:only-of-type {\n",
       "        vertical-align: middle;\n",
       "    }\n",
       "\n",
       "    .dataframe tbody tr th {\n",
       "        vertical-align: top;\n",
       "    }\n",
       "\n",
       "    .dataframe thead th {\n",
       "        text-align: right;\n",
       "    }\n",
       "</style>\n",
       "<table border=\"1\" class=\"dataframe\">\n",
       "  <thead>\n",
       "    <tr style=\"text-align: right;\">\n",
       "      <th></th>\n",
       "      <th>_id</th>\n",
       "      <th>firstName</th>\n",
       "      <th>lastName</th>\n",
       "      <th>emailId</th>\n",
       "      <th>gender</th>\n",
       "      <th>alternateContact</th>\n",
       "      <th>birthDate</th>\n",
       "      <th>phrId</th>\n",
       "      <th>chat</th>\n",
       "      <th>customId</th>\n",
       "    </tr>\n",
       "  </thead>\n",
       "  <tbody>\n",
       "    <tr>\n",
       "      <th>0</th>\n",
       "      <td>T6hb630b3</td>\n",
       "      <td>Css</td>\n",
       "      <td></td>\n",
       "      <td></td>\n",
       "      <td>M</td>\n",
       "      <td></td>\n",
       "      <td>None</td>\n",
       "      <td>NaN</td>\n",
       "      <td>NaN</td>\n",
       "      <td>NaN</td>\n",
       "    </tr>\n",
       "    <tr>\n",
       "      <th>1</th>\n",
       "      <td>T6h33b300</td>\n",
       "      <td>Lokesh</td>\n",
       "      <td></td>\n",
       "      <td></td>\n",
       "      <td>M</td>\n",
       "      <td>NaN</td>\n",
       "      <td>1996-05-16T18:30:00.000Z</td>\n",
       "      <td>NaN</td>\n",
       "      <td>NaN</td>\n",
       "      <td>NaN</td>\n",
       "    </tr>\n",
       "    <tr>\n",
       "      <th>2</th>\n",
       "      <td>TjhB4373</td>\n",
       "      <td>Shila</td>\n",
       "      <td>Das</td>\n",
       "      <td></td>\n",
       "      <td>M</td>\n",
       "      <td>NaN</td>\n",
       "      <td>NaN</td>\n",
       "      <td>63b5hvy614d5</td>\n",
       "      <td>NaN</td>\n",
       "      <td>NaN</td>\n",
       "    </tr>\n",
       "    <tr>\n",
       "      <th>3</th>\n",
       "      <td>6df4R5b</td>\n",
       "      <td>Bhavika</td>\n",
       "      <td>Ben Panchal</td>\n",
       "      <td></td>\n",
       "      <td>F</td>\n",
       "      <td>NaN</td>\n",
       "      <td>1988-04-24T14:30:00.000Z</td>\n",
       "      <td>644nig7y</td>\n",
       "      <td>NaN</td>\n",
       "      <td>NaN</td>\n",
       "    </tr>\n",
       "    <tr>\n",
       "      <th>4</th>\n",
       "      <td>lK9hy06a</td>\n",
       "      <td>Raghu Viju</td>\n",
       "      <td></td>\n",
       "      <td></td>\n",
       "      <td>M</td>\n",
       "      <td></td>\n",
       "      <td>NaN</td>\n",
       "      <td>NaN</td>\n",
       "      <td>NaN</td>\n",
       "      <td>NaN</td>\n",
       "    </tr>\n",
       "  </tbody>\n",
       "</table>\n",
       "</div>"
      ],
      "text/plain": [
       "         _id   firstName     lastName emailId gender alternateContact  \\\n",
       "0  T6hb630b3         Css                           M                    \n",
       "1  T6h33b300      Lokesh                           M              NaN   \n",
       "2   TjhB4373       Shila          Das              M              NaN   \n",
       "3    6df4R5b     Bhavika  Ben Panchal              F              NaN   \n",
       "4   lK9hy06a  Raghu Viju                           M                    \n",
       "\n",
       "                  birthDate         phrId chat customId  \n",
       "0                      None           NaN  NaN      NaN  \n",
       "1  1996-05-16T18:30:00.000Z           NaN  NaN      NaN  \n",
       "2                       NaN  63b5hvy614d5  NaN      NaN  \n",
       "3  1988-04-24T14:30:00.000Z      644nig7y  NaN      NaN  \n",
       "4                       NaN           NaN  NaN      NaN  "
      ]
     },
     "execution_count": 86,
     "metadata": {},
     "output_type": "execute_result"
    }
   ],
   "source": [
    "df.head()"
   ]
  },
  {
   "cell_type": "code",
   "execution_count": 95,
   "metadata": {},
   "outputs": [],
   "source": [
    "temp_df = df.copy()"
   ]
  },
  {
   "cell_type": "code",
   "execution_count": 96,
   "metadata": {},
   "outputs": [
    {
     "data": {
      "text/html": [
       "<div>\n",
       "<style scoped>\n",
       "    .dataframe tbody tr th:only-of-type {\n",
       "        vertical-align: middle;\n",
       "    }\n",
       "\n",
       "    .dataframe tbody tr th {\n",
       "        vertical-align: top;\n",
       "    }\n",
       "\n",
       "    .dataframe thead th {\n",
       "        text-align: right;\n",
       "    }\n",
       "</style>\n",
       "<table border=\"1\" class=\"dataframe\">\n",
       "  <thead>\n",
       "    <tr style=\"text-align: right;\">\n",
       "      <th></th>\n",
       "      <th>_id</th>\n",
       "      <th>firstName</th>\n",
       "      <th>lastName</th>\n",
       "      <th>emailId</th>\n",
       "      <th>gender</th>\n",
       "      <th>alternateContact</th>\n",
       "      <th>birthDate</th>\n",
       "      <th>phrId</th>\n",
       "      <th>chat</th>\n",
       "      <th>customId</th>\n",
       "    </tr>\n",
       "  </thead>\n",
       "  <tbody>\n",
       "    <tr>\n",
       "      <th>0</th>\n",
       "      <td>T6hb630b3</td>\n",
       "      <td>Css</td>\n",
       "      <td></td>\n",
       "      <td></td>\n",
       "      <td>M</td>\n",
       "      <td></td>\n",
       "      <td>None</td>\n",
       "      <td>NaN</td>\n",
       "      <td>NaN</td>\n",
       "      <td>NaN</td>\n",
       "    </tr>\n",
       "    <tr>\n",
       "      <th>1</th>\n",
       "      <td>T6h33b300</td>\n",
       "      <td>Lokesh</td>\n",
       "      <td></td>\n",
       "      <td></td>\n",
       "      <td>M</td>\n",
       "      <td>NaN</td>\n",
       "      <td>1996-05-16T18:30:00.000Z</td>\n",
       "      <td>NaN</td>\n",
       "      <td>NaN</td>\n",
       "      <td>NaN</td>\n",
       "    </tr>\n",
       "    <tr>\n",
       "      <th>2</th>\n",
       "      <td>TjhB4373</td>\n",
       "      <td>Shila</td>\n",
       "      <td>Das</td>\n",
       "      <td></td>\n",
       "      <td>M</td>\n",
       "      <td>NaN</td>\n",
       "      <td>NaN</td>\n",
       "      <td>63b5hvy614d5</td>\n",
       "      <td>NaN</td>\n",
       "      <td>NaN</td>\n",
       "    </tr>\n",
       "    <tr>\n",
       "      <th>3</th>\n",
       "      <td>6df4R5b</td>\n",
       "      <td>Bhavika</td>\n",
       "      <td>Ben Panchal</td>\n",
       "      <td></td>\n",
       "      <td>F</td>\n",
       "      <td>NaN</td>\n",
       "      <td>1988-04-24T14:30:00.000Z</td>\n",
       "      <td>644nig7y</td>\n",
       "      <td>NaN</td>\n",
       "      <td>NaN</td>\n",
       "    </tr>\n",
       "    <tr>\n",
       "      <th>4</th>\n",
       "      <td>lK9hy06a</td>\n",
       "      <td>Raghu Viju</td>\n",
       "      <td></td>\n",
       "      <td></td>\n",
       "      <td>M</td>\n",
       "      <td></td>\n",
       "      <td>NaN</td>\n",
       "      <td>NaN</td>\n",
       "      <td>NaN</td>\n",
       "      <td>NaN</td>\n",
       "    </tr>\n",
       "  </tbody>\n",
       "</table>\n",
       "</div>"
      ],
      "text/plain": [
       "         _id   firstName     lastName emailId gender alternateContact  \\\n",
       "0  T6hb630b3         Css                           M                    \n",
       "1  T6h33b300      Lokesh                           M              NaN   \n",
       "2   TjhB4373       Shila          Das              M              NaN   \n",
       "3    6df4R5b     Bhavika  Ben Panchal              F              NaN   \n",
       "4   lK9hy06a  Raghu Viju                           M                    \n",
       "\n",
       "                  birthDate         phrId chat customId  \n",
       "0                      None           NaN  NaN      NaN  \n",
       "1  1996-05-16T18:30:00.000Z           NaN  NaN      NaN  \n",
       "2                       NaN  63b5hvy614d5  NaN      NaN  \n",
       "3  1988-04-24T14:30:00.000Z      644nig7y  NaN      NaN  \n",
       "4                       NaN           NaN  NaN      NaN  "
      ]
     },
     "execution_count": 96,
     "metadata": {},
     "output_type": "execute_result"
    }
   ],
   "source": [
    "temp_df.head()"
   ]
  },
  {
   "cell_type": "code",
   "execution_count": 100,
   "metadata": {},
   "outputs": [
    {
     "data": {
      "text/plain": [
       "1    1996-05-16 18:30:00+00:00\n",
       "3    1988-04-24 14:30:00+00:00\n",
       "5    1983-05-16 18:30:00+00:00\n",
       "6    2003-06-27 14:30:00+00:00\n",
       "8    1983-05-16 18:30:00+00:00\n",
       "9    1998-05-16 18:30:00+00:00\n",
       "10   1988-04-08 00:00:00+00:00\n",
       "11   1971-05-16 18:30:00+00:00\n",
       "12   1970-05-16 18:30:00+00:00\n",
       "13   1997-07-31 00:00:00+00:00\n",
       "15   1997-05-16 18:30:00+00:00\n",
       "16   1972-05-16 18:30:00+00:00\n",
       "17   2001-05-16 18:30:00+00:00\n",
       "20   2001-08-27 00:00:00+00:00\n",
       "21   1998-11-19 23:30:00+00:00\n",
       "22   1996-05-16 18:30:00+00:00\n",
       "24   1992-05-16 18:30:00+00:00\n",
       "27   1999-05-16 18:30:00+00:00\n",
       "28   1972-05-16 18:30:00+00:00\n",
       "29   1980-03-22 18:30:00+00:00\n",
       "30   1991-11-19 23:30:00+00:00\n",
       "Name: birthDate, dtype: datetime64[ns, UTC]"
      ]
     },
     "execution_count": 100,
     "metadata": {},
     "output_type": "execute_result"
    }
   ],
   "source": [
    "birthdate = temp_df[\"birthDate\"].dropna()\n",
    "birthdate = pd.to_datetime(birthdate)\n",
    "birthdate"
   ]
  },
  {
   "cell_type": "code",
   "execution_count": 103,
   "metadata": {},
   "outputs": [],
   "source": [
    "today = date.today()"
   ]
  },
  {
   "cell_type": "code",
   "execution_count": 107,
   "metadata": {},
   "outputs": [
    {
     "data": {
      "text/plain": [
       "1     28\n",
       "3     36\n",
       "5     41\n",
       "6     21\n",
       "8     41\n",
       "9     26\n",
       "10    36\n",
       "11    53\n",
       "12    54\n",
       "13    26\n",
       "15    27\n",
       "16    52\n",
       "17    23\n",
       "20    22\n",
       "21    25\n",
       "22    28\n",
       "24    32\n",
       "27    25\n",
       "28    52\n",
       "29    44\n",
       "30    32\n",
       "Name: birthDate, dtype: int64"
      ]
     },
     "execution_count": 107,
     "metadata": {},
     "output_type": "execute_result"
    }
   ],
   "source": [
    "birthdate.map(\n",
    "    lambda x: today.year - x.year - ((today.month, today.day) < (x.month, x.day))\n",
    ")"
   ]
  },
  {
   "cell_type": "code",
   "execution_count": 109,
   "metadata": {},
   "outputs": [],
   "source": [
    "df[\"birthDate\"] = pd.to_datetime(df[\"birthDate\"])"
   ]
  },
  {
   "cell_type": "code",
   "execution_count": 110,
   "metadata": {},
   "outputs": [],
   "source": [
    "df[\"age\"] = df[\"birthDate\"].map(\n",
    "    lambda x: today.year - x.year - ((today.month, today.day) < (x.month, x.day))\n",
    ")"
   ]
  },
  {
   "cell_type": "code",
   "execution_count": 112,
   "metadata": {},
   "outputs": [],
   "source": [
    "def foo(x):\n",
    "    if x >= 0 and x <= 12:\n",
    "        return \"Child\"\n",
    "    elif x >= 13 and x <= 19:\n",
    "        return \"Adult\"\n",
    "    elif x >= 20 and x <= 59:\n",
    "        return \"Senior\""
   ]
  },
  {
   "cell_type": "code",
   "execution_count": 113,
   "metadata": {},
   "outputs": [],
   "source": [
    "df[\"ageGroup\"] = df[\"age\"].map(foo)"
   ]
  },
  {
   "cell_type": "code",
   "execution_count": 114,
   "metadata": {},
   "outputs": [
    {
     "data": {
      "text/plain": [
       "ageGroup\n",
       "Senior    21\n",
       "Name: count, dtype: int64"
      ]
     },
     "execution_count": 114,
     "metadata": {},
     "output_type": "execute_result"
    }
   ],
   "source": [
    "df[\"ageGroup\"].value_counts()"
   ]
  },
  {
   "cell_type": "code",
   "execution_count": 117,
   "metadata": {},
   "outputs": [
    {
     "data": {
      "text/plain": [
       "0"
      ]
     },
     "execution_count": 117,
     "metadata": {},
     "output_type": "execute_result"
    }
   ],
   "source": [
    "(df[\"age\"] < 19).sum()"
   ]
  },
  {
   "cell_type": "markdown",
   "metadata": {},
   "source": [
    "For Medicines"
   ]
  },
  {
   "cell_type": "code",
   "execution_count": 146,
   "metadata": {},
   "outputs": [],
   "source": [
    "consultation_data = []\n",
    "for record in data:\n",
    "    consult = record.get(\"consultationData\", {})\n",
    "    consultation_data.append(consult)"
   ]
  },
  {
   "cell_type": "code",
   "execution_count": 147,
   "metadata": {},
   "outputs": [],
   "source": [
    "med_data_details = []\n",
    "for record in consultation_data:\n",
    "    med = record.get(\"medicines\", {})\n",
    "    med_data_details.append(med)"
   ]
  },
  {
   "cell_type": "code",
   "execution_count": 149,
   "metadata": {},
   "outputs": [
    {
     "data": {
      "text/plain": [
       "[[{'medicineId': '619404',\n",
       "   'medicineName': 'A',\n",
       "   'medicineNameStrengthType': '',\n",
       "   'frequency': '1-0-1',\n",
       "   'duration': '90',\n",
       "   'durationIn': 'DAYS',\n",
       "   'instruction': 'AFTER MEAL',\n",
       "   'isActive': True},\n",
       "  {'medicineId': '619804',\n",
       "   'medicineName': 'B',\n",
       "   'medicineNameStrengthType': '',\n",
       "   'frequency': '1-0-1',\n",
       "   'duration': '90',\n",
       "   'durationIn': 'DAYS',\n",
       "   'instruction': 'AFTER MEAL',\n",
       "   'isActive': False}],\n",
       " [{'medicineId': '619404',\n",
       "   'medicineName': 'A',\n",
       "   'medicineNameStrengthType': '',\n",
       "   'frequency': '1-0-1',\n",
       "   'duration': '90',\n",
       "   'durationIn': 'DAYS',\n",
       "   'instruction': 'AFTER MEAL',\n",
       "   'isActive': True},\n",
       "  {'medicineId': '619804',\n",
       "   'medicineName': 'C',\n",
       "   'medicineNameStrengthType': '',\n",
       "   'frequency': '1-0-1',\n",
       "   'duration': '30',\n",
       "   'durationIn': 'DAYS',\n",
       "   'instruction': 'AFTER MEAL',\n",
       "   'isActive': False}],\n",
       " [{'medicineId': '619404',\n",
       "   'medicineName': 'B',\n",
       "   'medicineNameStrengthType': '',\n",
       "   'frequency': '1-0-1',\n",
       "   'duration': '10',\n",
       "   'durationIn': 'DAYS',\n",
       "   'instruction': 'AFTER MEAL',\n",
       "   'isActive': True},\n",
       "  {'medicineId': '619404',\n",
       "   'medicineName': 'A',\n",
       "   'medicineNameStrengthType': '',\n",
       "   'frequency': '1-0-1',\n",
       "   'duration': '60',\n",
       "   'durationIn': 'DAYS',\n",
       "   'instruction': 'AFTER MEAL',\n",
       "   'isActive': False},\n",
       "  {'medicineId': '619404',\n",
       "   'medicineName': 'C',\n",
       "   'medicineNameStrengthType': '',\n",
       "   'frequency': '1-0-1',\n",
       "   'duration': '90',\n",
       "   'durationIn': 'DAYS',\n",
       "   'instruction': 'AFTER MEAL',\n",
       "   'isActive': True}],\n",
       " [{'medicineId': '619704',\n",
       "   'medicineName': 'B',\n",
       "   'medicineNameStrengthType': '',\n",
       "   'frequency': '1-0-1',\n",
       "   'duration': '90',\n",
       "   'durationIn': 'DAYS',\n",
       "   'instruction': 'AFTER MEAL',\n",
       "   'isActive': True}],\n",
       " [{'medicineId': '619384',\n",
       "   'medicineName': 'D',\n",
       "   'medicineNameStrengthType': '',\n",
       "   'frequency': '1-1-1',\n",
       "   'duration': '90',\n",
       "   'durationIn': 'DAYS',\n",
       "   'instruction': 'AFTER MEAL',\n",
       "   'isActive': True},\n",
       "  {'medicineId': '628424',\n",
       "   'medicineName': 'A',\n",
       "   'medicineNameStrengthType': '',\n",
       "   'frequency': '1-0-1',\n",
       "   'duration': '90',\n",
       "   'durationIn': 'DAYS',\n",
       "   'instruction': 'AFTER MEAL',\n",
       "   'isActive': True}],\n",
       " [{'medicineId': '643404',\n",
       "   'medicineName': 'A',\n",
       "   'medicineNameStrengthType': '',\n",
       "   'frequency': '1-0-1',\n",
       "   'duration': '90',\n",
       "   'durationIn': 'DAYS',\n",
       "   'instruction': 'AFTER MEAL',\n",
       "   'isActive': True},\n",
       "  {'medicineId': '615604',\n",
       "   'medicineName': 'D',\n",
       "   'medicineNameStrengthType': '',\n",
       "   'frequency': '1-0-1',\n",
       "   'duration': '90',\n",
       "   'durationIn': 'DAYS',\n",
       "   'instruction': 'AFTER MEAL',\n",
       "   'isActive': False},\n",
       "  {'medicineId': '617704',\n",
       "   'medicineName': 'E',\n",
       "   'medicineNameStrengthType': '',\n",
       "   'frequency': '1-0-1',\n",
       "   'duration': '90',\n",
       "   'durationIn': 'DAYS',\n",
       "   'instruction': 'AFTER MEAL',\n",
       "   'isActive': True},\n",
       "  {'medicineId': '685404',\n",
       "   'medicineName': 'C',\n",
       "   'medicineNameStrengthType': '',\n",
       "   'frequency': '1-0-1',\n",
       "   'duration': '90',\n",
       "   'durationIn': 'DAYS',\n",
       "   'instruction': 'AFTER MEAL',\n",
       "   'isActive': False}],\n",
       " [{'medicineId': '632304',\n",
       "   'medicineName': 'D',\n",
       "   'medicineNameStrengthType': '',\n",
       "   'frequency': '1-0-1',\n",
       "   'duration': '90',\n",
       "   'durationIn': 'DAYS',\n",
       "   'instruction': 'AFTER MEAL',\n",
       "   'isActive': True},\n",
       "  {'medicineId': '617624',\n",
       "   'medicineName': 'E',\n",
       "   'medicineNameStrengthType': '',\n",
       "   'frequency': '1-0-1',\n",
       "   'duration': '90',\n",
       "   'durationIn': 'DAYS',\n",
       "   'instruction': 'AFTER MEAL',\n",
       "   'isActive': True}],\n",
       " [{'medicineId': '619404',\n",
       "   'medicineName': 'A',\n",
       "   'medicineNameStrengthType': '',\n",
       "   'frequency': '1-0-1',\n",
       "   'duration': '90',\n",
       "   'durationIn': 'DAYS',\n",
       "   'instruction': 'AFTER MEAL',\n",
       "   'isActive': True}],\n",
       " [{'medicineId': '619504',\n",
       "   'medicineName': 'E',\n",
       "   'medicineNameStrengthType': '',\n",
       "   'frequency': '1-0-1',\n",
       "   'duration': '90',\n",
       "   'durationIn': 'DAYS',\n",
       "   'instruction': 'AFTER MEAL',\n",
       "   'isActive': True}],\n",
       " [],\n",
       " [{'medicineId': '619504',\n",
       "   'medicineName': 'E',\n",
       "   'medicineNameStrengthType': '',\n",
       "   'frequency': '1-0-1',\n",
       "   'duration': '90',\n",
       "   'durationIn': 'DAYS',\n",
       "   'instruction': 'AFTER MEAL',\n",
       "   'isActive': False}],\n",
       " [{'medicineId': '619504',\n",
       "   'medicineName': 'E',\n",
       "   'medicineNameStrengthType': '',\n",
       "   'frequency': '1-0-1',\n",
       "   'duration': '90',\n",
       "   'durationIn': 'DAYS',\n",
       "   'instruction': 'AFTER MEAL',\n",
       "   'isActive': True},\n",
       "  {'medicineId': '611304',\n",
       "   'medicineName': 'A',\n",
       "   'medicineNameStrengthType': '',\n",
       "   'frequency': '1-0-1',\n",
       "   'duration': '90',\n",
       "   'durationIn': 'DAYS',\n",
       "   'instruction': 'AFTER MEAL',\n",
       "   'isActive': True},\n",
       "  {'medicineId': '619504',\n",
       "   'medicineName': 'D',\n",
       "   'medicineNameStrengthType': '',\n",
       "   'frequency': '1-0-1',\n",
       "   'duration': '90',\n",
       "   'durationIn': 'DAYS',\n",
       "   'instruction': 'AFTER MEAL',\n",
       "   'isActive': False}],\n",
       " [],\n",
       " [{'medicineId': '619504',\n",
       "   'medicineName': 'A',\n",
       "   'medicineNameStrengthType': '',\n",
       "   'frequency': '1-0-1',\n",
       "   'duration': '90',\n",
       "   'durationIn': 'DAYS',\n",
       "   'instruction': 'AFTER MEAL',\n",
       "   'isActive': True},\n",
       "  {'medicineId': '619504',\n",
       "   'medicineName': 'B',\n",
       "   'medicineNameStrengthType': '',\n",
       "   'frequency': '1-0-1',\n",
       "   'duration': '90',\n",
       "   'durationIn': 'DAYS',\n",
       "   'instruction': 'AFTER MEAL',\n",
       "   'isActive': True},\n",
       "  {'medicineId': '619504',\n",
       "   'medicineName': 'D',\n",
       "   'medicineNameStrengthType': '',\n",
       "   'frequency': '1-0-1',\n",
       "   'duration': '90',\n",
       "   'durationIn': 'DAYS',\n",
       "   'instruction': 'AFTER MEAL',\n",
       "   'isActive': False}],\n",
       " [],\n",
       " [{'medicineId': '619504',\n",
       "   'medicineName': 'B',\n",
       "   'medicineNameStrengthType': '',\n",
       "   'frequency': '1-0-1',\n",
       "   'duration': '90',\n",
       "   'durationIn': 'DAYS',\n",
       "   'instruction': 'AFTER MEAL',\n",
       "   'isActive': True},\n",
       "  {'medicineId': '619504',\n",
       "   'medicineName': 'D',\n",
       "   'medicineNameStrengthType': '',\n",
       "   'frequency': '1-0-1',\n",
       "   'duration': '90',\n",
       "   'durationIn': 'DAYS',\n",
       "   'instruction': 'AFTER MEAL',\n",
       "   'isActive': True},\n",
       "  {'medicineId': '619504',\n",
       "   'medicineName': 'C',\n",
       "   'medicineNameStrengthType': '',\n",
       "   'frequency': '1-0-1',\n",
       "   'duration': '90',\n",
       "   'durationIn': 'DAYS',\n",
       "   'instruction': 'AFTER MEAL',\n",
       "   'isActive': True}],\n",
       " [{'medicineId': '619504',\n",
       "   'medicineName': 'C',\n",
       "   'medicineNameStrengthType': '',\n",
       "   'frequency': '1-0-1',\n",
       "   'duration': '90',\n",
       "   'durationIn': 'DAYS',\n",
       "   'instruction': 'AFTER MEAL',\n",
       "   'isActive': True},\n",
       "  {'medicineId': '619504',\n",
       "   'medicineName': 'A',\n",
       "   'medicineNameStrengthType': '',\n",
       "   'frequency': '1-0-1',\n",
       "   'duration': '90',\n",
       "   'durationIn': 'DAYS',\n",
       "   'instruction': 'AFTER MEAL',\n",
       "   'isActive': True}],\n",
       " [{'medicineId': '619504',\n",
       "   'medicineName': 'A',\n",
       "   'medicineNameStrengthType': '',\n",
       "   'frequency': '1-0-1',\n",
       "   'duration': '90',\n",
       "   'durationIn': 'DAYS',\n",
       "   'instruction': 'AFTER MEAL',\n",
       "   'isActive': True},\n",
       "  {'medicineId': '619504',\n",
       "   'medicineName': 'C',\n",
       "   'medicineNameStrengthType': '',\n",
       "   'frequency': '1-0-1',\n",
       "   'duration': '90',\n",
       "   'durationIn': 'DAYS',\n",
       "   'instruction': 'AFTER MEAL',\n",
       "   'isActive': False},\n",
       "  {'medicineId': '619504',\n",
       "   'medicineName': 'B',\n",
       "   'medicineNameStrengthType': '',\n",
       "   'frequency': '1-0-1',\n",
       "   'duration': '90',\n",
       "   'durationIn': 'DAYS',\n",
       "   'instruction': 'AFTER MEAL',\n",
       "   'isActive': True}],\n",
       " [{'medicineId': '619504',\n",
       "   'medicineName': 'A',\n",
       "   'medicineNameStrengthType': '',\n",
       "   'frequency': '1-0-1',\n",
       "   'duration': '90',\n",
       "   'durationIn': 'DAYS',\n",
       "   'instruction': 'AFTER MEAL',\n",
       "   'isActive': False},\n",
       "  {'medicineId': '619504',\n",
       "   'medicineName': 'B',\n",
       "   'medicineNameStrengthType': '',\n",
       "   'frequency': '1-0-1',\n",
       "   'duration': '90',\n",
       "   'durationIn': 'DAYS',\n",
       "   'instruction': 'AFTER MEAL',\n",
       "   'isActive': True},\n",
       "  {'medicineId': '619504',\n",
       "   'medicineName': 'C',\n",
       "   'medicineNameStrengthType': '',\n",
       "   'frequency': '1-0-1',\n",
       "   'duration': '90',\n",
       "   'durationIn': 'DAYS',\n",
       "   'instruction': 'AFTER MEAL',\n",
       "   'isActive': True},\n",
       "  {'medicineId': '619504',\n",
       "   'medicineName': 'D',\n",
       "   'medicineNameStrengthType': '',\n",
       "   'frequency': '1-0-1',\n",
       "   'duration': '90',\n",
       "   'durationIn': 'DAYS',\n",
       "   'instruction': 'AFTER MEAL',\n",
       "   'isActive': True}],\n",
       " [],\n",
       " [{'medicineId': '619504',\n",
       "   'medicineName': 'D',\n",
       "   'medicineNameStrengthType': '',\n",
       "   'frequency': '1-0-1',\n",
       "   'duration': '90',\n",
       "   'durationIn': 'DAYS',\n",
       "   'instruction': 'AFTER MEAL',\n",
       "   'isActive': False}],\n",
       " [{'medicineId': '612504',\n",
       "   'medicineName': 'D',\n",
       "   'medicineNameStrengthType': '',\n",
       "   'frequency': '1-0-1',\n",
       "   'duration': '90',\n",
       "   'durationIn': 'DAYS',\n",
       "   'instruction': 'AFTER MEAL',\n",
       "   'isActive': False},\n",
       "  {'medicineId': '612504',\n",
       "   'medicineName': 'D',\n",
       "   'medicineNameStrengthType': '',\n",
       "   'frequency': '1-0-1',\n",
       "   'duration': '90',\n",
       "   'durationIn': 'DAYS',\n",
       "   'instruction': 'AFTER MEAL',\n",
       "   'isActive': False},\n",
       "  {'medicineId': '612504',\n",
       "   'medicineName': 'B',\n",
       "   'medicineNameStrengthType': '',\n",
       "   'frequency': '1-0-1',\n",
       "   'duration': '90',\n",
       "   'durationIn': 'DAYS',\n",
       "   'instruction': 'AFTER MEAL',\n",
       "   'isActive': True}],\n",
       " [{'medicineId': '611504',\n",
       "   'medicineName': 'A',\n",
       "   'medicineNameStrengthType': '',\n",
       "   'frequency': '1-0-1',\n",
       "   'duration': '90',\n",
       "   'durationIn': 'DAYS',\n",
       "   'instruction': 'AFTER MEAL',\n",
       "   'isActive': True},\n",
       "  {'medicineId': '619504',\n",
       "   'medicineName': 'G',\n",
       "   'medicineNameStrengthType': '',\n",
       "   'frequency': '1-0-1',\n",
       "   'duration': '90',\n",
       "   'durationIn': 'DAYS',\n",
       "   'instruction': 'AFTER MEAL',\n",
       "   'isActive': False},\n",
       "  {'medicineId': '619304',\n",
       "   'medicineName': 'B',\n",
       "   'medicineNameStrengthType': '',\n",
       "   'frequency': '1-0-1',\n",
       "   'duration': '90',\n",
       "   'durationIn': 'DAYS',\n",
       "   'instruction': 'AFTER MEAL',\n",
       "   'isActive': True},\n",
       "  {'medicineId': '612504',\n",
       "   'medicineName': 'D',\n",
       "   'medicineNameStrengthType': '',\n",
       "   'frequency': '1-0-1',\n",
       "   'duration': '90',\n",
       "   'durationIn': 'DAYS',\n",
       "   'instruction': 'AFTER MEAL',\n",
       "   'isActive': True}],\n",
       " [{'medicineId': '612504',\n",
       "   'medicineName': 'A',\n",
       "   'medicineNameStrengthType': '',\n",
       "   'frequency': '1-0-1',\n",
       "   'duration': '90',\n",
       "   'durationIn': 'DAYS',\n",
       "   'instruction': 'AFTER MEAL',\n",
       "   'isActive': True},\n",
       "  {'medicineId': '612504',\n",
       "   'medicineName': 'B',\n",
       "   'medicineNameStrengthType': '',\n",
       "   'frequency': '1-0-1',\n",
       "   'duration': '90',\n",
       "   'durationIn': 'DAYS',\n",
       "   'instruction': 'AFTER MEAL',\n",
       "   'isActive': True},\n",
       "  {'medicineId': '612504',\n",
       "   'medicineName': 'C',\n",
       "   'medicineNameStrengthType': '',\n",
       "   'frequency': '1-0-1',\n",
       "   'duration': '90',\n",
       "   'durationIn': 'DAYS',\n",
       "   'instruction': 'AFTER MEAL',\n",
       "   'isActive': True}],\n",
       " [],\n",
       " [{'medicineId': '612504',\n",
       "   'medicineName': 'D',\n",
       "   'medicineNameStrengthType': '',\n",
       "   'frequency': '1-0-1',\n",
       "   'duration': '90',\n",
       "   'durationIn': 'DAYS',\n",
       "   'instruction': 'AFTER MEAL',\n",
       "   'isActive': True},\n",
       "  {'medicineId': '612504',\n",
       "   'medicineName': 'A',\n",
       "   'medicineNameStrengthType': '',\n",
       "   'frequency': '1-0-1',\n",
       "   'duration': '90',\n",
       "   'durationIn': 'DAYS',\n",
       "   'instruction': 'AFTER MEAL',\n",
       "   'isActive': True},\n",
       "  {'medicineId': '612504',\n",
       "   'medicineName': 'E',\n",
       "   'medicineNameStrengthType': '',\n",
       "   'frequency': '1-0-1',\n",
       "   'duration': '90',\n",
       "   'durationIn': 'DAYS',\n",
       "   'instruction': 'AFTER MEAL',\n",
       "   'isActive': True},\n",
       "  {'medicineId': '612504',\n",
       "   'medicineName': 'C',\n",
       "   'medicineNameStrengthType': '',\n",
       "   'frequency': '1-0-1',\n",
       "   'duration': '90',\n",
       "   'durationIn': 'DAYS',\n",
       "   'instruction': 'AFTER MEAL',\n",
       "   'isActive': False}],\n",
       " [{'medicineId': '612504',\n",
       "   'medicineName': 'C',\n",
       "   'medicineNameStrengthType': '',\n",
       "   'frequency': '1-0-1',\n",
       "   'duration': '90',\n",
       "   'durationIn': 'DAYS',\n",
       "   'instruction': 'AFTER MEAL',\n",
       "   'isActive': False},\n",
       "  {'medicineId': '612504',\n",
       "   'medicineName': 'D',\n",
       "   'medicineNameStrengthType': '',\n",
       "   'frequency': '1-0-1',\n",
       "   'duration': '90',\n",
       "   'durationIn': 'DAYS',\n",
       "   'instruction': 'AFTER MEAL',\n",
       "   'isActive': False}],\n",
       " [{'medicineId': '612504',\n",
       "   'medicineName': 'A',\n",
       "   'medicineNameStrengthType': '',\n",
       "   'frequency': '1-0-1',\n",
       "   'duration': '90',\n",
       "   'durationIn': 'DAYS',\n",
       "   'instruction': 'AFTER MEAL',\n",
       "   'isActive': False},\n",
       "  {'medicineId': '612504',\n",
       "   'medicineName': 'C',\n",
       "   'medicineNameStrengthType': '',\n",
       "   'frequency': '1-0-1',\n",
       "   'duration': '90',\n",
       "   'durationIn': 'DAYS',\n",
       "   'instruction': 'AFTER MEAL',\n",
       "   'isActive': True},\n",
       "  {'medicineId': '612504',\n",
       "   'medicineName': 'C',\n",
       "   'medicineNameStrengthType': '',\n",
       "   'frequency': '1-0-1',\n",
       "   'duration': '90',\n",
       "   'durationIn': 'DAYS',\n",
       "   'instruction': 'AFTER MEAL',\n",
       "   'isActive': False},\n",
       "  {'medicineId': '612504',\n",
       "   'medicineName': 'D',\n",
       "   'medicineNameStrengthType': '',\n",
       "   'frequency': '1-0-1',\n",
       "   'duration': '90',\n",
       "   'durationIn': 'DAYS',\n",
       "   'instruction': 'AFTER MEAL',\n",
       "   'isActive': True}],\n",
       " [],\n",
       " [{'medicineId': '612504',\n",
       "   'medicineName': 'A',\n",
       "   'medicineNameStrengthType': '',\n",
       "   'frequency': '1-0-1',\n",
       "   'duration': '90',\n",
       "   'durationIn': 'DAYS',\n",
       "   'instruction': 'AFTER MEAL',\n",
       "   'isActive': True},\n",
       "  {'medicineId': '612504',\n",
       "   'medicineName': 'B',\n",
       "   'medicineNameStrengthType': '',\n",
       "   'frequency': '1-0-1',\n",
       "   'duration': '90',\n",
       "   'durationIn': 'DAYS',\n",
       "   'instruction': 'AFTER MEAL',\n",
       "   'isActive': True},\n",
       "  {'medicineId': '612504',\n",
       "   'medicineName': 'C',\n",
       "   'medicineNameStrengthType': '',\n",
       "   'frequency': '1-0-1',\n",
       "   'duration': '90',\n",
       "   'durationIn': 'DAYS',\n",
       "   'instruction': 'AFTER MEAL',\n",
       "   'isActive': True},\n",
       "  {'medicineId': '612504',\n",
       "   'medicineName': 'D',\n",
       "   'medicineNameStrengthType': '',\n",
       "   'frequency': '1-0-1',\n",
       "   'duration': '90',\n",
       "   'durationIn': 'DAYS',\n",
       "   'instruction': 'AFTER MEAL',\n",
       "   'isActive': True}],\n",
       " [{'medicineId': '612504',\n",
       "   'medicineName': 'A',\n",
       "   'medicineNameStrengthType': '',\n",
       "   'frequency': '1-0-1',\n",
       "   'duration': '90',\n",
       "   'durationIn': 'DAYS',\n",
       "   'instruction': 'AFTER MEAL',\n",
       "   'isActive': True},\n",
       "  {'medicineId': '612504',\n",
       "   'medicineName': 'D',\n",
       "   'medicineNameStrengthType': '',\n",
       "   'frequency': '1-0-1',\n",
       "   'duration': '90',\n",
       "   'durationIn': 'DAYS',\n",
       "   'instruction': 'AFTER MEAL',\n",
       "   'isActive': True},\n",
       "  {'medicineId': '612504',\n",
       "   'medicineName': 'D',\n",
       "   'medicineNameStrengthType': '',\n",
       "   'frequency': '1-0-1',\n",
       "   'duration': '90',\n",
       "   'durationIn': 'DAYS',\n",
       "   'instruction': 'AFTER MEAL',\n",
       "   'isActive': False},\n",
       "  {'medicineId': '612504',\n",
       "   'medicineName': 'B',\n",
       "   'medicineNameStrengthType': '',\n",
       "   'frequency': '1-0-1',\n",
       "   'duration': '90',\n",
       "   'durationIn': 'DAYS',\n",
       "   'instruction': 'AFTER MEAL',\n",
       "   'isActive': True}]]"
      ]
     },
     "execution_count": 149,
     "metadata": {},
     "output_type": "execute_result"
    }
   ],
   "source": [
    "med_data_details"
   ]
  },
  {
   "cell_type": "code",
   "execution_count": 150,
   "metadata": {},
   "outputs": [],
   "source": [
    "flattened_list = [item for sublist in med_data_details for item in sublist]"
   ]
  },
  {
   "cell_type": "code",
   "execution_count": 152,
   "metadata": {},
   "outputs": [
    {
     "data": {
      "text/html": [
       "<div>\n",
       "<style scoped>\n",
       "    .dataframe tbody tr th:only-of-type {\n",
       "        vertical-align: middle;\n",
       "    }\n",
       "\n",
       "    .dataframe tbody tr th {\n",
       "        vertical-align: top;\n",
       "    }\n",
       "\n",
       "    .dataframe thead th {\n",
       "        text-align: right;\n",
       "    }\n",
       "</style>\n",
       "<table border=\"1\" class=\"dataframe\">\n",
       "  <thead>\n",
       "    <tr style=\"text-align: right;\">\n",
       "      <th></th>\n",
       "      <th>medicineId</th>\n",
       "      <th>medicineName</th>\n",
       "      <th>medicineNameStrengthType</th>\n",
       "      <th>frequency</th>\n",
       "      <th>duration</th>\n",
       "      <th>durationIn</th>\n",
       "      <th>instruction</th>\n",
       "      <th>isActive</th>\n",
       "    </tr>\n",
       "  </thead>\n",
       "  <tbody>\n",
       "    <tr>\n",
       "      <th>0</th>\n",
       "      <td>619404</td>\n",
       "      <td>A</td>\n",
       "      <td></td>\n",
       "      <td>1-0-1</td>\n",
       "      <td>90</td>\n",
       "      <td>DAYS</td>\n",
       "      <td>AFTER MEAL</td>\n",
       "      <td>True</td>\n",
       "    </tr>\n",
       "    <tr>\n",
       "      <th>1</th>\n",
       "      <td>619804</td>\n",
       "      <td>B</td>\n",
       "      <td></td>\n",
       "      <td>1-0-1</td>\n",
       "      <td>90</td>\n",
       "      <td>DAYS</td>\n",
       "      <td>AFTER MEAL</td>\n",
       "      <td>False</td>\n",
       "    </tr>\n",
       "    <tr>\n",
       "      <th>2</th>\n",
       "      <td>619404</td>\n",
       "      <td>A</td>\n",
       "      <td></td>\n",
       "      <td>1-0-1</td>\n",
       "      <td>90</td>\n",
       "      <td>DAYS</td>\n",
       "      <td>AFTER MEAL</td>\n",
       "      <td>True</td>\n",
       "    </tr>\n",
       "    <tr>\n",
       "      <th>3</th>\n",
       "      <td>619804</td>\n",
       "      <td>C</td>\n",
       "      <td></td>\n",
       "      <td>1-0-1</td>\n",
       "      <td>30</td>\n",
       "      <td>DAYS</td>\n",
       "      <td>AFTER MEAL</td>\n",
       "      <td>False</td>\n",
       "    </tr>\n",
       "    <tr>\n",
       "      <th>4</th>\n",
       "      <td>619404</td>\n",
       "      <td>B</td>\n",
       "      <td></td>\n",
       "      <td>1-0-1</td>\n",
       "      <td>10</td>\n",
       "      <td>DAYS</td>\n",
       "      <td>AFTER MEAL</td>\n",
       "      <td>True</td>\n",
       "    </tr>\n",
       "  </tbody>\n",
       "</table>\n",
       "</div>"
      ],
      "text/plain": [
       "  medicineId medicineName medicineNameStrengthType frequency duration  \\\n",
       "0     619404            A                              1-0-1       90   \n",
       "1     619804            B                              1-0-1       90   \n",
       "2     619404            A                              1-0-1       90   \n",
       "3     619804            C                              1-0-1       30   \n",
       "4     619404            B                              1-0-1       10   \n",
       "\n",
       "  durationIn instruction  isActive  \n",
       "0       DAYS  AFTER MEAL      True  \n",
       "1       DAYS  AFTER MEAL     False  \n",
       "2       DAYS  AFTER MEAL      True  \n",
       "3       DAYS  AFTER MEAL     False  \n",
       "4       DAYS  AFTER MEAL      True  "
      ]
     },
     "execution_count": 152,
     "metadata": {},
     "output_type": "execute_result"
    }
   ],
   "source": [
    "med_df = pd.DataFrame(flattened_list)\n",
    "med_df.head()"
   ]
  },
  {
   "cell_type": "code",
   "execution_count": 153,
   "metadata": {},
   "outputs": [
    {
     "data": {
      "text/plain": [
       "medicineName\n",
       "A    17\n",
       "D    17\n",
       "C    13\n",
       "B    12\n",
       "E     6\n",
       "G     1\n",
       "Name: count, dtype: int64"
      ]
     },
     "execution_count": 153,
     "metadata": {},
     "output_type": "execute_result"
    }
   ],
   "source": [
    "med_df[\"medicineName\"].value_counts()"
   ]
  },
  {
   "cell_type": "code",
   "execution_count": 157,
   "metadata": {},
   "outputs": [
    {
     "data": {
      "text/plain": [
       "isActive\n",
       "True     69.7\n",
       "False    30.3\n",
       "Name: count, dtype: float64"
      ]
     },
     "execution_count": 157,
     "metadata": {},
     "output_type": "execute_result"
    }
   ],
   "source": [
    "round((med_df[\"isActive\"].value_counts() / len(med_df)) * 100, 2)"
   ]
  },
  {
   "cell_type": "code",
   "execution_count": 161,
   "metadata": {},
   "outputs": [
    {
     "data": {
      "text/plain": [
       "2.13"
      ]
     },
     "execution_count": 161,
     "metadata": {},
     "output_type": "execute_result"
    }
   ],
   "source": [
    "round(len(med_df) / len(df), 2)"
   ]
  },
  {
   "cell_type": "code",
   "execution_count": null,
   "metadata": {},
   "outputs": [],
   "source": [
    "Add a column isValidMobile of boolean which contains the values true or false against each value from phoneNumber column If a phone number is a valid Indian phone number.  \n",
    "\n",
    "CREATE YOUR OWN LOGIC, DON’T USE ANY EXTERNAL PYTHON LIBRARY FOR VALIDATION \n",
    "  \n",
    "true : indicates number is valid  \n",
    "false : indicates number is not valid  \n",
    "\n",
    "Problem Statement: Design a logic to check whether a phone number is valid or not.  "
   ]
  },
  {
   "cell_type": "markdown",
   "metadata": {},
   "source": [
    "Valid Phone number"
   ]
  },
  {
   "cell_type": "code",
   "execution_count": 172,
   "metadata": {},
   "outputs": [],
   "source": [
    "def is_valid_check(x):\n",
    "    if not isinstance(x, str):\n",
    "        return False\n",
    "    if len(x) != 10:\n",
    "        return False\n",
    "    if not phone_number.isdigit():\n",
    "        return False\n",
    "    if phone_number[0] not in \"6789\":\n",
    "        return False\n",
    "    if phone_number[0:3] != \"+91\" or phone_number[0:2] != \"91\":\n",
    "        return False\n",
    "    return True"
   ]
  },
  {
   "cell_type": "code",
   "execution_count": 173,
   "metadata": {},
   "outputs": [],
   "source": [
    "df[\"isValidMobile\"] = df[\"alternateContact\"].map(is_valid_check)"
   ]
  },
  {
   "cell_type": "code",
   "execution_count": 175,
   "metadata": {},
   "outputs": [
    {
     "data": {
      "text/plain": [
       "0"
      ]
     },
     "execution_count": 175,
     "metadata": {},
     "output_type": "execute_result"
    }
   ],
   "source": [
    "df[\"isValidMobile\"].sum()"
   ]
  },
  {
   "cell_type": "code",
   "execution_count": 177,
   "metadata": {},
   "outputs": [
    {
     "data": {
      "text/plain": [
       "alternateContact\n",
       "                 8\n",
       "+917797689682    1\n",
       "Name: count, dtype: int64"
      ]
     },
     "execution_count": 177,
     "metadata": {},
     "output_type": "execute_result"
    }
   ],
   "source": [
    "df[\"alternateContact\"].value_counts()"
   ]
  },
  {
   "cell_type": "code",
   "execution_count": null,
   "metadata": {},
   "outputs": [],
   "source": []
  }
 ],
 "metadata": {
  "kernelspec": {
   "display_name": "data_science_env",
   "language": "python",
   "name": "data_science_env"
  },
  "language_info": {
   "codemirror_mode": {
    "name": "ipython",
    "version": 3
   },
   "file_extension": ".py",
   "mimetype": "text/x-python",
   "name": "python",
   "nbconvert_exporter": "python",
   "pygments_lexer": "ipython3",
   "version": "3.12.4"
  }
 },
 "nbformat": 4,
 "nbformat_minor": 2
}
